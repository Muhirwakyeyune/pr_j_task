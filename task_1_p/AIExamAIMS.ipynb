{
 "cells": [
  {
   "cell_type": "code",
   "execution_count": 5,
   "metadata": {},
   "outputs": [],
   "source": [
    "import numpy as np"
   ]
  },
  {
   "cell_type": "code",
   "execution_count": 2,
   "metadata": {},
   "outputs": [
    {
     "name": "stdout",
     "output_type": "stream",
     "text": [
      "Requirement already satisfied: tabulate in /opt/homebrew/lib/python3.11/site-packages (0.9.0)\n",
      "\n",
      "\u001b[1m[\u001b[0m\u001b[34;49mnotice\u001b[0m\u001b[1;39;49m]\u001b[0m\u001b[39;49m A new release of pip is available: \u001b[0m\u001b[31;49m23.3.1\u001b[0m\u001b[39;49m -> \u001b[0m\u001b[32;49m23.3.2\u001b[0m\n",
      "\u001b[1m[\u001b[0m\u001b[34;49mnotice\u001b[0m\u001b[1;39;49m]\u001b[0m\u001b[39;49m To update, run: \u001b[0m\u001b[32;49mpython3.11 -m pip install --upgrade pip\u001b[0m\n"
     ]
    }
   ],
   "source": [
    "!pip3 install tabulate"
   ]
  },
  {
   "cell_type": "code",
   "execution_count": 4,
   "metadata": {},
   "outputs": [],
   "source": [
    "from tabulate import tabulate"
   ]
  },
  {
   "cell_type": "code",
   "execution_count": 24,
   "metadata": {},
   "outputs": [],
   "source": [
    "# let emplement class\n",
    "\n",
    "class Network:\n",
    "    def __init__(self, input_network):\n",
    "        self.network_matrix = self.parse_network(input_network)\n",
    "\n",
    "    def parse_network(self, input_network):\n",
    "        lines = input_network.strip().splitlines()\n",
    "        return [[self.parse_cell(cell) for cell in row.split(',')] for row in lines if row.strip()]\n",
    "\n",
    "    def parse_cell(self, cell):\n",
    "        if cell.isdigit():\n",
    "            return int(cell)\n",
    "        else:\n",
    "            return cell\n",
    "\n",
    "    def Parent(self, parent, i):\n",
    "        if parent[i] == i:\n",
    "            return i\n",
    "        return self.Parent(parent, parent[i])\n",
    "\n",
    "    def union(self, parent, rank, x, y):\n",
    "        x_root = self.Parent(parent, x)\n",
    "        y_root = self.Parent(parent, y)\n",
    "\n",
    "        if rank[x_root] < rank[y_root]:\n",
    "            parent[x_root] = y_root\n",
    "        elif rank[x_root] > rank[y_root]:\n",
    "            parent[y_root] = x_root\n",
    "        else:\n",
    "            parent[y_root] = x_root\n",
    "            rank[x_root] += 1\n",
    "    # funcion to implement kruslal algorithm\n",
    "    def kruskal_aloritm(self):\n",
    "        num_nodes = len(self.network_matrix)\n",
    "        parent = [i for i in range(num_nodes)]\n",
    "        rank = [0] * num_nodes\n",
    "        edges = []\n",
    "\n",
    "        for i in range(num_nodes):\n",
    "            for j in range(i + 1, num_nodes):\n",
    "                if self.network_matrix[i][j] != '-':\n",
    "                    edges.append((i, j, self.network_matrix[i][j]))\n",
    "\n",
    "        edges.sort(key=lambda x: x[2])\n",
    "        min_spanning_tree = []\n",
    "\n",
    "        for edge in edges:\n",
    "            root_x = self.Parent(parent, edge[0])\n",
    "            root_y = self.Parent(parent, edge[1])\n",
    "\n",
    "            if root_x != root_y:\n",
    "                min_spanning_tree.append(edge)\n",
    "                self.union(parent, rank, root_x, root_y)\n",
    "\n",
    "        return min_spanning_tree\n",
    "    # funcion to remove redundaty edjes\n",
    "    def redundant_edges(self):\n",
    "        min_spanning_tree = self.kruskal_aloritm()\n",
    "\n",
    "        for i in range(len(self.network_matrix)):\n",
    "            for j in range(len(self.network_matrix[i])):\n",
    "                if self.network_matrix[i][j] != '-' and (i, j, self.network_matrix[i][j]) not in min_spanning_tree:\n",
    "                    self.network_matrix[i][j] = '-'\n",
    "\n",
    "    def calculate_saving(self):\n",
    "        tot_cost = 0\n",
    "        for i in range(len(self.network_matrix)):\n",
    "            for j in range(i + 1, len(self.network_matrix[i])):\n",
    "                if self.network_matrix[i][j] != '-':\n",
    "                    tot_cost =tot_cost + self.network_matrix[i][j]\n",
    "        return tot_cost\n",
    "\n",
    "    def maximum_saving(self):\n",
    "        self.redundant_edges()\n",
    "        max_saving = self.calculate_saving()\n",
    "        return max_saving\n",
    "\n",
    "    def display_matrix(self):\n",
    "        headers = [\"\"] + [\"A\", \"B\", \"C\", \"D\", \"E\", \"F\", \"G\"]\n",
    "        table = tabulate(self.network_matrix, headers=headers, tablefmt=\"pretty\", stralign=\"center\")\n",
    "        print(table)\n",
    "\n",
    "\n"
   ]
  },
  {
   "cell_type": "code",
   "execution_count": 25,
   "metadata": {},
   "outputs": [
    {
     "name": "stdout",
     "output_type": "stream",
     "text": [
      "Original Network:\n",
      "+----+----+----+----+----+----+----+\n",
      "|    | A  | B  | C  | D  | E  | F  |\n",
      "+----+----+----+----+----+----+----+\n",
      "| -  | 14 | 10 | 19 | -  | -  | -  |\n",
      "| 14 | -  | -  | 15 | 18 | -  | -  |\n",
      "| 10 | -  | -  | 26 | -  | 29 | -  |\n",
      "| 19 | 15 | 26 | -  | 16 | 17 | 21 |\n",
      "| -  | 18 | -  | 16 | -  | -  | 9  |\n",
      "| -  | -  | 29 | 17 | -  | -  | 25 |\n",
      "| -  | -  | -  | 21 | 9  | 25 | -  |\n",
      "+----+----+----+----+----+----+----+\n",
      "Orgin Saving: 81\n",
      "\n",
      "Updated Network:\n",
      "+---+----+----+----+----+----+---+\n",
      "|   | A  | B  | C  | D  | E  | F |\n",
      "+---+----+----+----+----+----+---+\n",
      "| - | 14 | 10 | -  | -  | -  | - |\n",
      "| - | -  | -  | 15 | -  | -  | - |\n",
      "| - | -  | -  | -  | -  | -  | - |\n",
      "| - | -  | -  | -  | 16 | 17 | - |\n",
      "| - | -  | -  | -  | -  | -  | 9 |\n",
      "| - | -  | -  | -  | -  | -  | - |\n",
      "| - | -  | -  | -  | -  | -  | - |\n",
      "+---+----+----+----+----+----+---+\n",
      "Finall  savings: 81\n"
     ]
    }
   ],
   "source": [
    "if __name__ == \"__main__\":\n",
    "    input_network = '''-,14,10,19,-,-,-\n",
    "    14,-,-,15,18,-,-\n",
    "    10,-,-,26,-,29,-\n",
    "    19,15,26,-,16,17,21\n",
    "    -,18,-,16,-,-,9\n",
    "    -,-,29,17,-,-,25\n",
    "    -,-,-,21,9,25,-\n",
    "    '''\n",
    "\n",
    "    net = Network(input_network)\n",
    "\n",
    "    print(\"Original Network:\")\n",
    "    net.display_matrix()\n",
    "\n",
    "    max_saving = net.maximum_saving()\n",
    "    print(\"Orgin Saving:\", max_saving)\n",
    "\n",
    "    net.redundant_edges()\n",
    "    updated_saving = net.calculate_saving()\n",
    "\n",
    "    print(\"\\nUpdated Network:\")\n",
    "    net.display_matrix()\n",
    "\n",
    "    print(\"Finall  savings:\", updated_saving)"
   ]
  },
  {
   "cell_type": "code",
   "execution_count": 23,
   "metadata": {},
   "outputs": [
    {
     "name": "stdout",
     "output_type": "stream",
     "text": [
      "Requirement already satisfied: prettytable in /opt/homebrew/lib/python3.11/site-packages (3.9.0)\n",
      "Requirement already satisfied: wcwidth in /Users/salomonmuhirwa/Library/Python/3.11/lib/python/site-packages (from prettytable) (0.2.13)\n",
      "\n",
      "\u001b[1m[\u001b[0m\u001b[34;49mnotice\u001b[0m\u001b[1;39;49m]\u001b[0m\u001b[39;49m A new release of pip is available: \u001b[0m\u001b[31;49m23.3.1\u001b[0m\u001b[39;49m -> \u001b[0m\u001b[32;49m23.3.2\u001b[0m\n",
      "\u001b[1m[\u001b[0m\u001b[34;49mnotice\u001b[0m\u001b[1;39;49m]\u001b[0m\u001b[39;49m To update, run: \u001b[0m\u001b[32;49mpython3.11 -m pip install --upgrade pip\u001b[0m\n"
     ]
    }
   ],
   "source": [
    "# !pip3 install prettytable"
   ]
  },
  {
   "cell_type": "code",
   "execution_count": null,
   "metadata": {},
   "outputs": [],
   "source": []
  }
 ],
 "metadata": {
  "kernelspec": {
   "display_name": "Python 3",
   "language": "python",
   "name": "python3"
  },
  "language_info": {
   "codemirror_mode": {
    "name": "ipython",
    "version": 3
   },
   "file_extension": ".py",
   "mimetype": "text/x-python",
   "name": "python",
   "nbconvert_exporter": "python",
   "pygments_lexer": "ipython3",
   "version": "3.11.7"
  }
 },
 "nbformat": 4,
 "nbformat_minor": 2
}
